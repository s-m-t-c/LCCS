{
 "cells": [
  {
   "cell_type": "markdown",
   "metadata": {},
   "source": [
    "Imports"
   ]
  },
  {
   "cell_type": "code",
   "execution_count": 1,
   "metadata": {},
   "outputs": [],
   "source": [
    "# General\n",
    "\n",
    "from scipy import stats\n",
    "import scipy\n",
    "from skimage.filters import threshold_otsu, rank\n",
    "import matplotlib.pyplot as plt\n",
    "import numpy as np\n",
    "import xarray as xr\n",
    "from skimage.morphology import binary_erosion, binary_dilation, disk, square\n",
    "import pandas as pd\n",
    "import sys\n",
    "from scipy import ndimage\n",
    "from datacube import helpers\n",
    "from datacube.utils import geometry\n",
    "from matplotlib.patches import Rectangle\n",
    "\n",
    "# PCA\n",
    "\n",
    "# import sklearn\n",
    "sys.path.append('/g/data/u46/users/sc0554/cult_area/LCCS/')\n",
    "from xarray_pca import xarray_pca\n",
    "\n",
    "# Image Seg\n",
    "\n",
    "from skimage import io\n",
    "from skimage.segmentation import quickshift\n",
    "import sklearn.feature_extraction.image\n",
    "import sklearn.cluster\n",
    "from skimage.segmentation import mark_boundaries, slic, watershed\n",
    "from skimage.util import img_as_float\n",
    "from skimage.color import rgb2gray\n",
    "from sklearn.impute import SimpleImputer\n",
    "from skimage.filters import sobel"
   ]
  },
  {
   "cell_type": "code",
   "execution_count": 2,
   "metadata": {},
   "outputs": [],
   "source": [
    "import datacube\n",
    "dc=datacube.Datacube(config='/home/547/sc0554/datacube.conf', env='lccs_dev')"
   ]
  },
  {
   "cell_type": "code",
   "execution_count": 3,
   "metadata": {},
   "outputs": [],
   "source": [
    "# product = 'ls8_nbart_tmad_annual'\n",
    "\n",
    "\n",
    "# # Ayr\n",
    "# x = (1500000, 1600000)\n",
    "# y = (-2200000, -2100000)\n",
    "\n",
    "# # Diamentina\n",
    "# x = (800000, 900000)\n",
    "# y = (-2800000, -2700000)\n",
    "\n",
    "# # Gwydir\n",
    "# x = (1600000, 1700000)\n",
    "# y = (-3400000, -3300000)\n",
    "\n",
    "# # Leichhardt\n",
    "# x = (800000, 900000)\n",
    "# y = (-2000000, -1900000)\n",
    "\n",
    "# # Kakadu\n",
    "# x = (0, 100000)\n",
    "# y = (-1350000, -1250000)\n",
    "\n",
    "# # Hobart\n",
    "x = (1200000, 1300000)\n",
    "y = (-4800000, -4700000)\n",
    "\n",
    "# # Perth\n",
    "# x = (-1550000, -1450000)\n",
    "# y = (-3650000, -3550000)\n",
    "\n",
    "# # Murray Valley\n",
    "# x = (1100000, 1200000)\n",
    "# y = (-4000000, -3900000)\n",
    "\n",
    "# Adelaide\n",
    "# x = (550000, 650000)\n",
    "# y = (-3850000, -3750000)\n",
    "\n",
    "# # Lake Eyre\n",
    "# x = (500000, 600000)\n",
    "# y = (-3000000, -2900000)\n",
    "\n",
    "# # Blue mountains\n",
    "# x = (1600000, 1700000)\n",
    "# y = (-3900000, -3800000)\n",
    "\n",
    "# # Australian Alps\n",
    "# x = (1400000, 1500000)\n",
    "# y = (-4100000, -4000000)\n",
    "\n",
    "# # Collier Range\n",
    "# x = (-1300000, -1200000)\n",
    "# y = (-2700000, -2600000)\n",
    "\n",
    "# # Coorong\n",
    "# x = (600000, 700000)\n",
    "# y = (-3950000, -3850000)\n",
    "\n",
    "# # Brisbane\n",
    "# x = (2000000, 2100000)\n",
    "# y = (-3200000, -3100000)\n",
    "\n",
    "# # Dundas\n",
    "# x = (-1000000, -900000)\n",
    "# y = (-3650000, -3550000)\n",
    "\n",
    "query = {'time': ('2015-01-01', '2015-12-31')}\n",
    "query['x'] = (x[0], x[1])\n",
    "query['y'] = (y[0], y[1])\n",
    "query['crs'] = 'EPSG:3577'"
   ]
  },
  {
   "cell_type": "markdown",
   "metadata": {},
   "source": [
    "# TMAD PCA"
   ]
  },
  {
   "cell_type": "code",
   "execution_count": 6,
   "metadata": {},
   "outputs": [],
   "source": [
    "# Load data\n",
    "tmad = dc.load(product='ls8_nbart_tmad_annual', **query)"
   ]
  },
  {
   "cell_type": "code",
   "execution_count": 25,
   "metadata": {},
   "outputs": [
    {
     "name": "stderr",
     "output_type": "stream",
     "text": [
      "/g/data/v10/public/modules/dea-env/20190329/lib/python3.6/site-packages/ipykernel_launcher.py:2: RuntimeWarning: divide by zero encountered in log\n",
      "  \n",
      "/g/data/v10/public/modules/dea-env/20190329/lib/python3.6/site-packages/ipykernel_launcher.py:5: RuntimeWarning: divide by zero encountered in log\n",
      "  \"\"\"\n",
      "/g/data/v10/public/modules/dea-env/20190329/lib/python3.6/site-packages/ipykernel_launcher.py:5: RuntimeWarning: invalid value encountered in log\n",
      "  \"\"\"\n",
      "/g/data/v10/public/modules/dea-env/20190329/lib/python3.6/site-packages/ipykernel_launcher.py:8: RuntimeWarning: divide by zero encountered in log\n",
      "  \n"
     ]
    }
   ],
   "source": [
    "edev = tmad.edev.data.squeeze()\n",
    "edev = -np.log(edev)\n",
    "edev = np.nan_to_num(edev)\n",
    "sdev = tmad.sdev.data.squeeze()\n",
    "sdev = -np.log(sdev)\n",
    "sdev = np.nan_to_num(sdev)\n",
    "bcdev = tmad.bcdev.data.squeeze()\n",
    "bcdev = -np.log(bcdev)\n",
    "bcdev = np.nan_to_num(bcdev)"
   ]
  },
  {
   "cell_type": "code",
   "execution_count": 9,
   "metadata": {},
   "outputs": [],
   "source": [
    "# Apply PCA for dimensionality reduction\n",
    "tmad_pca = xarray_pca(tmad, ['sdev', 'edev', 'bcdev'])"
   ]
  },
  {
   "cell_type": "code",
   "execution_count": 12,
   "metadata": {},
   "outputs": [
    {
     "name": "stderr",
     "output_type": "stream",
     "text": [
      "/g/data/v10/public/modules/dea-env/20190329/lib/python3.6/site-packages/ipykernel_launcher.py:4: RuntimeWarning: divide by zero encountered in log\n",
      "  after removing the cwd from sys.path.\n",
      "/g/data/v10/public/modules/dea-env/20190329/lib/python3.6/site-packages/ipykernel_launcher.py:4: RuntimeWarning: invalid value encountered in log\n",
      "  after removing the cwd from sys.path.\n"
     ]
    },
    {
     "name": "stdout",
     "output_type": "stream",
     "text": [
      "0.0 1.7976931348623157e+308\n"
     ]
    }
   ],
   "source": [
    "# Process PCA data\n",
    "# tmad_pca = tmad_pca.fillna(-999)\n",
    "tmad_np = tmad_pca.data\n",
    "tmad_np = -np.log(tmad_np)\n",
    "tmad_np = np.nan_to_num(tmad_np)\n",
    "print(np.min(tmad_np), np.max(tmad_np))"
   ]
  },
  {
   "cell_type": "code",
   "execution_count": 13,
   "metadata": {},
   "outputs": [],
   "source": [
    "# Calculate the optimum threshold \n",
    "# thresh = threshold_otsu(tmad_np)\n",
    "thresh = 3\n",
    "# Filter by the threshold\n",
    "tmad_filt = tmad_np < thresh\n",
    "# tmad_filt = np.where(tmad_np > 0.055, 1, 0)"
   ]
  },
  {
   "cell_type": "code",
   "execution_count": 26,
   "metadata": {},
   "outputs": [
    {
     "name": "stderr",
     "output_type": "stream",
     "text": [
      "/g/data/v10/public/modules/dea-env/20190329/lib/python3.6/site-packages/matplotlib/axes/_base.py:2492: RuntimeWarning: overflow encountered in double_scalars\n",
      "  x1t += delta\n"
     ]
    },
    {
     "data": {
      "text/plain": [
       "<matplotlib.legend.Legend at 0x7f41c4ee9c18>"
      ]
     },
     "execution_count": 26,
     "metadata": {},
     "output_type": "execute_result"
    },
    {
     "data": {
      "image/png": "[encoded data removed]",
      "text/plain": [
       "<Figure size 1080x360 with 1 Axes>"
      ]
     },
     "metadata": {
      "needs_background": "light"
     },
     "output_type": "display_data"
    }
   ],
   "source": [
    "fig, ax = plt.subplots(ncols=1, figsize=(15,5))\n",
    "ax.hist(edev.ravel(), bins=256, label='edev', alpha=0.65)\n",
    "ax.hist(sdev.ravel(), bins=256, label='sdev', alpha=0.65)\n",
    "ax.hist(bcdev.ravel(), bins=256, label='bcdev', alpha=0.65)\n",
    "ax.hist(tmad_np.ravel(), bins=256, label='tmad pca', alpha=0.65)\n",
    "ax.axvline(thresh, color='r')\n",
    "\n",
    "ax.legend(prop={'size': 10})"
   ]
  },
  {
   "cell_type": "code",
   "execution_count": null,
   "metadata": {},
   "outputs": [],
   "source": [
    "fig, ax = plt.subplots(2,3, figsize=(25,10))\n",
    "ax[0][0].imshow(edev)\n",
    "ax[0][0].set_title('edev')\n",
    "ax[0][1].imshow(sdev)\n",
    "ax[0][1].set_title('sdev')\n",
    "ax[0][2].imshow(bcdev)\n",
    "ax[0][2].set_title('bcdev')\n",
    "ax[1][0].imshow(tmad_np)\n",
    "ax[1][0].set_title('tmad pca')\n",
    "ax[1][1].imshow(tmad_filt)\n",
    "ax[1][1].set_title('tmad_filt')\n",
    "ax[1][2].imshow(edev < 2.5)\n",
    "ax[1][2].set_title('eDEV')"
   ]
  },
  {
   "cell_type": "markdown",
   "metadata": {},
   "source": [
    "# Vegetation Thresholding"
   ]
  },
  {
   "cell_type": "code",
   "execution_count": null,
   "metadata": {},
   "outputs": [],
   "source": [
    "fc = dc.load(product = 'fc_percentile_albers_annual', **query)"
   ]
  },
  {
   "cell_type": "code",
   "execution_count": null,
   "metadata": {},
   "outputs": [],
   "source": [
    "fc_v = fc['PV_PC_90'].values.squeeze().astype(float) # Fractional cover"
   ]
  },
  {
   "cell_type": "code",
   "execution_count": null,
   "metadata": {},
   "outputs": [],
   "source": [
    "# ndvi_max = xr.open_dataset('/g/data/u46/users/sc0554/living_earth/cult_area/townsville_1y_input/woody_15_-22.nc')\n",
    "# ndvi_max_v = ndvi_max.veg.values.squeeze().astype(float)"
   ]
  },
  {
   "cell_type": "code",
   "execution_count": null,
   "metadata": {},
   "outputs": [],
   "source": [
    "thresh = 65\n",
    "# thresh =  threshold_otsu(fc_v)\n",
    "fc_thresh = fc_v > thresh"
   ]
  },
  {
   "cell_type": "code",
   "execution_count": null,
   "metadata": {},
   "outputs": [],
   "source": [
    "fig, ax = plt.subplots(ncols=1, figsize=(15,5))\n",
    "ax.hist(fc_v.ravel(), bins=256, label='fc_90th', alpha=0.65)\n",
    "ax.axvline(thresh, color='r')\n",
    "\n",
    "ax.legend(prop={'size': 10})"
   ]
  },
  {
   "cell_type": "code",
   "execution_count": null,
   "metadata": {},
   "outputs": [],
   "source": [
    "# fig, ax = plt.subplots(ncols=1, figsize=(20,10))\n",
    "# ax.imshow(ndvi_max_v)"
   ]
  },
  {
   "cell_type": "code",
   "execution_count": null,
   "metadata": {},
   "outputs": [],
   "source": [
    "fig, ax = plt.subplots(ncols=1, figsize=(20,10))\n",
    "ax.imshow(fc_thresh)"
   ]
  },
  {
   "cell_type": "markdown",
   "metadata": {},
   "source": [
    "## Combining Steps"
   ]
  },
  {
   "cell_type": "code",
   "execution_count": null,
   "metadata": {},
   "outputs": [],
   "source": [
    "cult_area = np.logical_and(tmad_filt, fc_cult)"
   ]
  },
  {
   "cell_type": "code",
   "execution_count": null,
   "metadata": {},
   "outputs": [],
   "source": [
    "cult_area_filt = ndimage.median_filter(cult_area, 4)\n",
    "# cult_area_filt = np.where(cult_area_filt == True, 1, 0).astype(float)\n",
    "ero_cult = binary_erosion(cult_area, square(2))\n",
    "dil_cult = binary_dilation(ero_cult, square(2))"
   ]
  },
  {
   "cell_type": "code",
   "execution_count": null,
   "metadata": {},
   "outputs": [],
   "source": [
    "dil_cult = np.where(dil_cult == True, 1, 0).astype(float)"
   ]
  },
  {
   "cell_type": "markdown",
   "metadata": {},
   "source": [
    "# Plot processing stages"
   ]
  },
  {
   "cell_type": "code",
   "execution_count": null,
   "metadata": {},
   "outputs": [],
   "source": [
    "fig, ax = plt.subplots(ncols=4, figsize=(20,10))\n",
    "ax[0].imshow(cult_area)\n",
    "ax[1].imshow(cult_area_filt)\n",
    "ax[2].imshow(ero_cult)\n",
    "ax[3].imshow(dil_cult)"
   ]
  },
  {
   "cell_type": "code",
   "execution_count": null,
   "metadata": {},
   "outputs": [],
   "source": [
    "fig, ax = plt.subplots(ncols=2, nrows=3, figsize=(15,20), sharex=True, sharey=True)\n",
    "ax[0][0].imshow(tmad_filt)\n",
    "ax[0][0].set_title('MAD filtered' + '\\n Pixels: ' + str(np.sum(tmad_filt)))\n",
    "ax[0][1].imshow(no_seg)\n",
    "ax[0][1].set_title('segmented NDVI' + '\\n Pixels: ' + str(np.sum(fc_cult)))\n",
    "ax[1][0].imshow(cult_area)\n",
    "ax[1][0].set_title('MAD + NDVI' + '\\n Pixels: ' + str(np.sum(cult_area)))\n",
    "ax[1][1].imshow(cult_area_filt)\n",
    "ax[1][1].set_title('Median Filter' + '\\n Pixels: ' + str(np.sum(cult_area_filt)))\n",
    "ax[2][0].imshow(ero_cult)\n",
    "ax[2][0].set_title('Erosion' + '\\n Pixels: ' + str(np.sum(ero_cult)))\n",
    "ax[2][1].imshow(dil_cult)\n",
    "ax[2][1].set_title('Dilation' + '\\n Pixels: ' + str(np.sum(dil_cult)))\n",
    "# fig.savefig('cultareaprocess')"
   ]
  },
  {
   "cell_type": "markdown",
   "metadata": {},
   "source": [
    "# Convert back to xarray"
   ]
  },
  {
   "cell_type": "code",
   "execution_count": null,
   "metadata": {},
   "outputs": [],
   "source": [
    "meta_d = tmad.squeeze().drop('time')"
   ]
  },
  {
   "cell_type": "code",
   "execution_count": null,
   "metadata": {},
   "outputs": [],
   "source": [
    "out = xr.Dataset({'cultfrac':(meta_d.dims,dil_cult)}, coords=meta_d.coords, attrs=meta_d.attrs)\n",
    "# out.attrs = meta_d.attrs\n",
    "# out.attrs['crs']=geometry.CRS(meta_d.crs.attrs['crs_wkt'])"
   ]
  },
  {
   "cell_type": "code",
   "execution_count": null,
   "metadata": {},
   "outputs": [],
   "source": [
    "helpers.write_geotiff('gwydir_kmean.tif', out)"
   ]
  },
  {
   "cell_type": "code",
   "execution_count": null,
   "metadata": {},
   "outputs": [],
   "source": [
    "out.to_netcdf('caf_pca_snowy2.nc')"
   ]
  },
  {
   "cell_type": "markdown",
   "metadata": {},
   "source": [
    "### Segmenting"
   ]
  },
  {
   "cell_type": "code",
   "execution_count": null,
   "metadata": {},
   "outputs": [],
   "source": [
    "# Segment the  max ndvi numpy array\n",
    "\n",
    "# %%time\n",
    "# Note: convert2lab=False allows the use of multiband images\n",
    "seg_qs = quickshift(img_v, kernel_size=5, convert2lab=False, max_dist=500, ratio=0.5)\n",
    "print(\"Quickshift number of segments: %d\" % len(np.unique(seg_qs)))"
   ]
  },
  {
   "cell_type": "code",
   "execution_count": null,
   "metadata": {},
   "outputs": [],
   "source": [
    "fig, ax = plt.subplots(figsize=(10,10))\n",
    "plt.imshow(mark_boundaries(img_v, seg_qs))"
   ]
  },
  {
   "cell_type": "code",
   "execution_count": null,
   "metadata": {},
   "outputs": [],
   "source": [
    "# Calculate the median max ndvi value for each segment\n",
    "\n",
    "seg_med = scipy.ndimage.median(input=img_v, labels=seg_qs, index=seg_qs)"
   ]
  },
  {
   "cell_type": "code",
   "execution_count": null,
   "metadata": {},
   "outputs": [],
   "source": [
    "# Calculate the optimum threshold for max NDVI\n",
    "# thresh = threshold_otsu(seg_med)\n",
    "# thresh = 0.55\n",
    "thresh = 70\n",
    "\n",
    "print(thresh)\n",
    "# Filter by the threshold\n",
    "thresh_seg_med = seg_med > thresh\n",
    "\n",
    "# seg_median_filt = np.where(seg_median_filt > 0.4, 1, 0)\n",
    "# seg_median_filt = np.where(seg_median_filt > 0.55, 1, 0) # tville"
   ]
  },
  {
   "cell_type": "code",
   "execution_count": null,
   "metadata": {},
   "outputs": [],
   "source": [
    "fig, ax = plt.subplots(ncols=1, figsize=(15,5))\n",
    "ax.hist(seg_med.ravel(), bins=256)\n",
    "ax.set_title('Histogram')\n",
    "ax.axvline(thresh, color='r')"
   ]
  },
  {
   "cell_type": "code",
   "execution_count": null,
   "metadata": {},
   "outputs": [],
   "source": [
    "# Create an empty numpy array with the same shape as the input\n",
    "img_fill = np.ones((img_v.shape))\n",
    "# Assign the segment size values to each value belonging to that \n",
    "seg_size = scipy.ndimage.sum(input=img_fill, labels=seg_qs, index=seg_qs)\n",
    "print(np.unique(seg_size))"
   ]
  },
  {
   "cell_type": "code",
   "execution_count": null,
   "metadata": {},
   "outputs": [],
   "source": [
    "# Filter by segment size\n",
    "# thresh_seg_med_filt = np.where((seg_size > 500) & (seg_size < 5000), thresh_seg_med, 0) # previously 2000 for small size\n",
    "thresh_seg_med_filt = np.where((seg_size > 500) & (seg_size < 19000), thresh_seg_med, 0) # Tville"
   ]
  },
  {
   "cell_type": "code",
   "execution_count": null,
   "metadata": {},
   "outputs": [],
   "source": [
    "fig, ax = plt.subplots(ncols=2, figsize=(20,10))\n",
    "ax[0].imshow(seg_med)\n",
    "ax[1].imshow(thresh_seg_med_filt)"
   ]
  }
 ],
 "metadata": {
  "kernelspec": {
   "display_name": "Python 3",
   "language": "python",
   "name": "python3"
  },
  "language_info": {
   "codemirror_mode": {
    "name": "ipython",
    "version": 3
   },
   "file_extension": ".py",
   "mimetype": "text/x-python",
   "name": "python",
   "nbconvert_exporter": "python",
   "pygments_lexer": "ipython3",
   "version": "3.6.7"
  }
 },
 "nbformat": 4,
 "nbformat_minor": 2
}
