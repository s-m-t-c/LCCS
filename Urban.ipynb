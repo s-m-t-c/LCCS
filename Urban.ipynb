{
 "cells": [
  {
   "cell_type": "markdown",
   "metadata": {},
   "source": [
    "Imports"
   ]
  },
  {
   "cell_type": "code",
   "execution_count": null,
   "metadata": {},
   "outputs": [],
   "source": [
    "# General\n",
    "\n",
    "from scipy import stats\n",
    "import scipy\n",
    "from skimage.filters import threshold_otsu, rank\n",
    "import matplotlib.pyplot as plt\n",
    "import numpy as np\n",
    "import xarray as xr\n",
    "from skimage.morphology import binary_erosion, binary_dilation, disk, square\n",
    "import pandas as pd\n",
    "import sys\n",
    "from scipy import ndimage\n",
    "from datacube import helpers\n",
    "from datacube.utils import geometry\n",
    "\n",
    "# PCA\n",
    "\n",
    "# import sklearn\n",
    "sys.path.append('/g/data/u46/users/sc0554/cult_area/LCCS/')\n",
    "from xarray_pca import xarray_pca\n",
    "\n",
    "# Image Seg\n",
    "\n",
    "from skimage import io\n",
    "from skimage.segmentation import quickshift\n",
    "import sklearn.feature_extraction.image\n",
    "import sklearn.cluster\n",
    "from skimage.segmentation import mark_boundaries, slic, watershed\n",
    "from skimage.util import img_as_float\n",
    "from skimage.color import rgb2gray\n",
    "from skimage.filters import sobel"
   ]
  },
  {
   "cell_type": "code",
   "execution_count": null,
   "metadata": {},
   "outputs": [],
   "source": [
    "# Open dataset\n",
    "tmad = xr.open_dataset('/g/data/u46/users/sc0554/cult_area/townsville_1y_input/mad-20160101-20161231_15_-22.nc')\n",
    "# tmad = xr.open_dataset('/g/data/u46/users/sc0554/cult_area/Barmah-Millewa_2y_input/mad-20150101-20161231_11_-40.nc')\n",
    "# tmad = xr.open_dataset('/g/data/u46/users/sc0554/cult_area/Snowy_2y_input/mad-20150101-20161231_14_-41.nc')\n",
    "\n",
    "# Subset here\n",
    "\n",
    "tmad_sub = tmad.isel(x=slice(500,2000), y=slice(500, 2000))"
   ]
  },
  {
   "cell_type": "code",
   "execution_count": null,
   "metadata": {},
   "outputs": [],
   "source": [
    "tmad_pca = xarray_pca(mad, ['sdev', 'bcdev', 'edev'])"
   ]
  },
  {
   "cell_type": "code",
   "execution_count": null,
   "metadata": {},
   "outputs": [],
   "source": [
    "fig, axes = plt.subplots(1,4, figsize=(20,10))\n",
    "axes[0].imshow(tmad.sdev.isel(time=0))\n",
    "axes[1].imshow(tmad.edev.isel(time=0))\n",
    "axes[2].imshow(tmad.bcdev.isel(time=0))\n",
    "axes[3].imshow(tmad_pca)"
   ]
  },
  {
   "cell_type": "markdown",
   "metadata": {},
   "source": [
    "# Image segmentation"
   ]
  },
  {
   "cell_type": "code",
   "execution_count": null,
   "metadata": {},
   "outputs": [],
   "source": [
    "fig, ax = plt.subplots(figsize=(10,10))\n",
    "plt.imshow(img.bare.values.squeeze())"
   ]
  },
  {
   "cell_type": "code",
   "execution_count": null,
   "metadata": {},
   "outputs": [],
   "source": [
    "# read in max ndvi data and convert to Numpy array\n",
    "\n",
    "img_path = '/g/data/u46/users/sc0554/cult_area/townsville_1y_input/woody_15_-22.nc'\n",
    "# img_path = '/g/data/u46/users/sc0554/cult_area/Barmah-Millewa_2y_input/woody_11_-40.nc'\n",
    "# img_path = '/g/data/u46/users/sc0554/cult_area/Snowy_2y_input/woody_14_-41.nc'\n",
    "# img = io.imread(image)\n",
    "# img = xr.open_rasterio(img_path)\n",
    "img = xr.open_dataset(img_path)\n",
    "img_v = np.squeeze(img['veg'].values).astype(float)\n",
    "img_s = img['veg'].isel(x=slice(2500, 4000), y=slice(2500, 4000))\n",
    "img_sv = np.squeeze(img_s.values).astype(float)"
   ]
  },
  {
   "cell_type": "code",
   "execution_count": null,
   "metadata": {},
   "outputs": [],
   "source": [
    "# Segment the  max ndvi numpy array\n",
    "\n",
    "# %%time\n",
    "# Note: convert2lab=False allows the use of multiband images\n",
    "seg_qs = quickshift(img_v, kernel_size=5, convert2lab=False, max_dist=500, ratio=0.5)\n",
    "print(\"Quickshift number of segments: %d\" % len(np.unique(seg_qs)))"
   ]
  },
  {
   "cell_type": "code",
   "execution_count": null,
   "metadata": {},
   "outputs": [],
   "source": [
    "fig, ax = plt.subplots(figsize=(10,10))\n",
    "plt.imshow(mark_boundaries(img_v, seg_qs))"
   ]
  },
  {
   "cell_type": "code",
   "execution_count": null,
   "metadata": {},
   "outputs": [],
   "source": [
    "# Calculate the median max ndvi value for each segment\n",
    "\n",
    "seg_median = scipy.ndimage.median(input=img_v, labels=seg_qs, index=seg_qs)"
   ]
  },
  {
   "cell_type": "code",
   "execution_count": null,
   "metadata": {},
   "outputs": [],
   "source": [
    "# Calculate the optimum threshold for max NDVI\n",
    "thresh = threshold_otsu(seg_median)\n",
    "thresh = 0.4\n",
    "# Filter by the threshold\n",
    "thresh_seg_median = seg_median < thresh\n",
    "\n",
    "# seg_median_filt = np.where(seg_median_filt > 0.4, 1, 0)\n",
    "# seg_median_filt = np.where(seg_median_filt > 0.55, 1, 0) # tville"
   ]
  },
  {
   "cell_type": "code",
   "execution_count": null,
   "metadata": {},
   "outputs": [],
   "source": [
    "print(thresh_seg_median)\n",
    "fig, ax = plt.subplots(ncols=1, figsize=(15,5))\n",
    "ax.hist(seg_median.ravel(), bins=256)\n",
    "ax.set_title('Histogram')\n",
    "ax.axvline(thresh, color='r')"
   ]
  },
  {
   "cell_type": "code",
   "execution_count": null,
   "metadata": {},
   "outputs": [],
   "source": [
    "# Create an empty numpy array with the same shapre as the input\n",
    "img_fill = np.ones((img_v.shape))\n",
    "# Assign the segment size values to each value belonging to that \n",
    "seg_size = scipy.ndimage.sum(input=img_fill, labels=segments_quickshift, index=segments_quickshift)\n",
    "print(np.unique(seg_size))"
   ]
  },
  {
   "cell_type": "code",
   "execution_count": null,
   "metadata": {},
   "outputs": [],
   "source": [
    "# Filter by segment size\n",
    "thresh_seg_median_filt = np.where((seg_size > 500) & (seg_size < 5000), thresh_seg_median, 0) # previously 2000 for small size\n",
    "# seg_median_filt = np.where((seg_size > 2000) & (seg_size < 19000), seg_median, 0) # Tville"
   ]
  },
  {
   "cell_type": "code",
   "execution_count": null,
   "metadata": {},
   "outputs": [],
   "source": [
    "fig, ax = plt.subplots(ncols=2, figsize=(20,10))\n",
    "ax[0].imshow(seg_median)\n",
    "ax[1].imshow(thresh_seg_median_filt)"
   ]
  },
  {
   "cell_type": "markdown",
   "metadata": {},
   "source": [
    "### MAD filtering"
   ]
  },
  {
   "cell_type": "code",
   "execution_count": null,
   "metadata": {},
   "outputs": [],
   "source": [
    "tripmad_np = d.data"
   ]
  },
  {
   "cell_type": "code",
   "execution_count": null,
   "metadata": {},
   "outputs": [],
   "source": [
    "print(np.min(tripmad_np), np.max(tripmad_np))"
   ]
  },
  {
   "cell_type": "code",
   "execution_count": null,
   "metadata": {},
   "outputs": [],
   "source": [
    "k = tripmad.edev.values.squeeze()"
   ]
  },
  {
   "cell_type": "code",
   "execution_count": null,
   "metadata": {},
   "outputs": [],
   "source": [
    "# tripmad_filt = np.where(tripmad_np < 0.07, True, False)\n",
    "tripmad_filt = np.where(k < 0.09, True, False)"
   ]
  },
  {
   "cell_type": "code",
   "execution_count": null,
   "metadata": {},
   "outputs": [],
   "source": [
    "fig, ax = plt.subplots(figsize=(20,10))\n",
    "plt.imshow(tripmad_filt)"
   ]
  },
  {
   "cell_type": "markdown",
   "metadata": {},
   "source": [
    "## Segmentation and MAD combination"
   ]
  },
  {
   "cell_type": "code",
   "execution_count": null,
   "metadata": {},
   "outputs": [],
   "source": [
    "cult_area = np.logical_and(tripmad_filt, thresh_seg_median_filt)\n",
    "# cult_area = np.where(cult_area == True, 1, 0)"
   ]
  },
  {
   "cell_type": "code",
   "execution_count": null,
   "metadata": {},
   "outputs": [],
   "source": [
    "cult_area_filt = ndimage.median_filter(cult_area, 4)\n",
    "cult_area_filt = np.where(cult_area_filt == True, 1, 0).astype(float)"
   ]
  },
  {
   "cell_type": "code",
   "execution_count": null,
   "metadata": {},
   "outputs": [],
   "source": [
    "erosion_cult = binary_erosion(cult_area, square(2))"
   ]
  },
  {
   "cell_type": "code",
   "execution_count": null,
   "metadata": {},
   "outputs": [],
   "source": [
    "dilation_cult = binary_dilation(erosion_cult, square(2))"
   ]
  },
  {
   "cell_type": "markdown",
   "metadata": {},
   "source": [
    "# Plot processing stages"
   ]
  },
  {
   "cell_type": "code",
   "execution_count": null,
   "metadata": {},
   "outputs": [],
   "source": [
    "fig, ax = plt.subplots(ncols=2, nrows=3, figsize=(15,20), sharex=True, sharey=True)\n",
    "ax[0][0].imshow(tripmad_filt)\n",
    "ax[0][0].set_title('MAD filtered' + '\\n Pixels: ' + str(np.sum(tripmad_filt)))\n",
    "ax[0][1].imshow(thresh_seg_median_filt)\n",
    "ax[0][1].set_title('segmented NDVI' + '\\n Pixels: ' + str(np.sum(thresh_seg_median_filt)))\n",
    "ax[1][0].imshow(cult_area)\n",
    "ax[1][0].set_title('MAD + NDVI' + '\\n Pixels: ' + str(np.sum(cult_area)))\n",
    "ax[1][1].imshow(cult_area_filt)\n",
    "ax[1][1].set_title('Median Filter' + '\\n Pixels: ' + str(np.sum(cult_area_filt)))\n",
    "ax[2][0].imshow(erosion_cult)\n",
    "ax[2][0].set_title('Erosion' + '\\n Pixels: ' + str(np.sum(erosion_cult)))\n",
    "ax[2][1].imshow(dilation_cult)\n",
    "ax[2][1].set_title('Dilation' + '\\n Pixels: ' + str(np.sum(dilation_cult)))\n",
    "# fig.savefig('cultareaprocess')"
   ]
  },
  {
   "cell_type": "markdown",
   "metadata": {},
   "source": [
    "# Convert back to xarray"
   ]
  },
  {
   "cell_type": "code",
   "execution_count": null,
   "metadata": {},
   "outputs": [],
   "source": [
    "# meta_d = img_s.squeeze().drop('band') tville\n",
    "meta_d = img.squeeze().drop('time')\n",
    "# meta_d = img_s.squeeze().drop('time')"
   ]
  },
  {
   "cell_type": "code",
   "execution_count": null,
   "metadata": {},
   "outputs": [],
   "source": [
    "# out = xr.DataArray(cult_area_filt, coords=meta_d.coords, dims=meta_d.dims)\n",
    "out = xr.Dataset({'urban_area':(meta_d.dims,cult_area_filt)}, coords=meta_d.coords, attrs=meta_d.attrs)\n",
    "# out.attrs = meta_d.attrs\n",
    "out.attrs['crs']=geometry.CRS(meta_d.crs.attrs['crs_wkt'])"
   ]
  },
  {
   "cell_type": "code",
   "execution_count": null,
   "metadata": {},
   "outputs": [],
   "source": [
    "helpers.write_geotiff('urb_tville.tif', out)"
   ]
  },
  {
   "cell_type": "code",
   "execution_count": null,
   "metadata": {},
   "outputs": [],
   "source": [
    "out.to_netcdf('caf_pca_snowy2.nc')"
   ]
  }
 ],
 "metadata": {
  "kernelspec": {
   "display_name": "Python 3",
   "language": "python",
   "name": "python3"
  },
  "language_info": {
   "codemirror_mode": {
    "name": "ipython",
    "version": 3
   },
   "file_extension": ".py",
   "mimetype": "text/x-python",
   "name": "python",
   "nbconvert_exporter": "python",
   "pygments_lexer": "ipython3",
   "version": "3.6.7"
  }
 },
 "nbformat": 4,
 "nbformat_minor": 2
}
