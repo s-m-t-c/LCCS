{
 "cells": [
  {
   "cell_type": "code",
   "execution_count": 1,
   "metadata": {},
   "outputs": [],
   "source": [
    "# Load modules\n",
    "import datacube\n",
    "import os\n",
    "import sys\n",
    "import warnings\n",
    "import pandas as pd\n",
    "import xarray as xr\n",
    "import numpy as np\n",
    "import matplotlib.image as mpimg\n",
    "from datacube.utils import geometry\n",
    "from datacube.utils.geometry import CRS\n",
    "from matplotlib import pyplot as plt\n",
    "import geopandas as gp\n",
    "import fiona\n",
    "import glob\n",
    "from datacube import helpers\n",
    "\n",
    "import rasterio\n",
    "import sklearn\n",
    "import graphviz \n",
    "import pdb\n",
    "import sklearn\n",
    "from rasterio.features import rasterize\n",
    "\n",
    "# Import external functions from dea-notebooks using relative link to 10_Scripts\n",
    "sys.path.append('/g/data/u46/users/sc0554/dea-notebooks/Scripts')\n",
    "from dea_bandindices import calculate_indices\n",
    "import dea_classificationtools\n",
    "from dea_plotting import display_map"
   ]
  },
  {
   "cell_type": "code",
   "execution_count": 2,
   "metadata": {},
   "outputs": [],
   "source": [
    "#'Wrappers' to translate xarrays to np arrays and back for interfacing with sklearn models\n",
    "def sklearn_flatten(input_xr):\n",
    "    \"\"\"\n",
    "    Reshape a DataArray or Dataset with spatial (and optionally temporal) structure into \n",
    "    an np.array with the spatial and temporal dimensions flattened into one dimension.\n",
    "    \n",
    "    This flattening procedure enables DataArrays and Datasets to be used to train and predict\n",
    "    with sklearn models.\n",
    "    \n",
    "    Last modified: September 2019\n",
    "    \n",
    "    Parameters\n",
    "    ----------  \n",
    "        input_xr : a DataArray or Dataset. Must have dimensions 'x' and 'y', may have dimension 'time'.\n",
    "                   Dimensions other than 'x', 'y' and 'time' are unaffected by the flattening.\n",
    "                   \n",
    "    Returns\n",
    "    ----------\n",
    "        input_np : a numpy array corresponding to input_xr.data (or input_xr.to_array().data), with\n",
    "                   dimensions 'x','y' and 'time' flattened into a single dimension, which is the first\n",
    "                   axis of the returned array. input_np contains no NaNs.\n",
    "    \n",
    "    \"\"\"\n",
    "#     pdb.set_trace()\n",
    "    #cast input Datasets to DataArray\n",
    "    if isinstance(input_xr,xr.Dataset):\n",
    "        input_xr = input_xr.to_array()\n",
    "    \n",
    "    #stack across pixel dimensions, handling timeseries if necessary\n",
    "    if 'time' in input_xr.dims:\n",
    "        stacked = input_xr.stack(z=['x','y','time'])\n",
    "    else:\n",
    "        stacked = input_xr.stack(z=['x','y'])\n",
    "        \n",
    "    #finding 'bands' dimensions in each pixel - these will not be flattened as their context is important for sklearn\n",
    "    pxdims = []\n",
    "    for dim in stacked.dims:\n",
    "        if dim != 'z':\n",
    "            pxdims.append(dim)\n",
    "    \n",
    "    #mask NaNs - we mask pixels with NaNs in *any* band, because sklearn cannot accept NaNs as input\n",
    "    mask = np.isnan(stacked)\n",
    "    if len(pxdims)!=0:\n",
    "        mask = mask.any(dim=pxdims)\n",
    "        \n",
    "    #turn the mask into a numpy array (boolean indexing with xarrays acts weird)\n",
    "    mask=mask.data\n",
    "    #the dimension we are masking along ('z') needs to be the first dimension in the underlying np array for\n",
    "    #the boolean indexing to work\n",
    "    stacked = stacked.transpose('z',*pxdims)\n",
    "    input_np = stacked.data[~mask]\n",
    "    \n",
    "    return input_np"
   ]
  },
  {
   "cell_type": "code",
   "execution_count": 283,
   "metadata": {},
   "outputs": [],
   "source": [
    "# affine of single pixel is nans fyi\n",
    "def get_training_data_for_shp(path, out_train, products=['ls8_nbart_geomedian_annual'],\n",
    "                              field='classnum'):\n",
    "    \n",
    "    \"\"\"\n",
    "    Function to extract data for training classifier\n",
    "    \n",
    "    Requires a list of products\n",
    "    \"\"\"\n",
    "    data_list = []\n",
    "    \n",
    "    query = {'time': ('2015-01-01', '2015-12-31')}\n",
    "    query['crs'] = 'EPSG:3577'\n",
    "    shp = gp.read_file(path)\n",
    "    bounds = shp.total_bounds\n",
    "    minx = bounds[0]\n",
    "    maxx = bounds[2]\n",
    "    miny = bounds[1]\n",
    "    maxy = bounds[3]\n",
    "    query['x'] = (minx, maxx)\n",
    "    query['y'] = (miny, maxy)\n",
    "    \n",
    "    # Make sure products is a list\n",
    "    if not isinstance(products, list):\n",
    "        products=[products]\n",
    "    \n",
    "    print(\"loading data...\")\n",
    "    for product in products:\n",
    "        data = dc.load(product=product, group_by='solar_day', **query)\n",
    "        # Check if geomedian is in the product and calculate indices if it is\n",
    "        if \"geomedian\" in product:\n",
    "            data = calculate_indices(data, 'BUI', collection='ga_ls_2')\n",
    "            data = calculate_indices(data, 'BSI', collection='ga_ls_2')\n",
    "            data = calculate_indices(data, 'BSI', collection='ga_ls_2')\n",
    "            data = calculate_indices(data, 'NBI', collection='ga_ls_2')\n",
    "            data = calculate_indices(data, 'EVI', collection='ga_ls_2')\n",
    "            data = calculate_indices(data, 'NDWI', collection='ga_ls_2')\n",
    "            data = calculate_indices(data, 'MSAVI', collection='ga_ls_2')\n",
    "        # Remove time step if present\n",
    "            \n",
    "        try:\n",
    "            data = data.isel(time=0)\n",
    "        except ValueError:\n",
    "            pass\n",
    "            data_list.append(data)\n",
    "\n",
    "    if len(products) == 1:\n",
    "        data_all = data\n",
    "    else:\n",
    "        # FIXME: One for later\n",
    "        raise Exception(\"Haven't implemented for multiple products yet\")\n",
    "           \n",
    "    print(\"calculating indices...\")    \n",
    "    # Calculate indices - will use for all features\n",
    "\n",
    "    \n",
    "    print(\"rastering features...\")\n",
    "    # Go through each feature\n",
    "    i = 0\n",
    "    for poly_geom, poly_class_id in zip(shp.geometry, shp[field]):\n",
    "        print(\"Feature {:04}/{:04}\\r\".format(i+1, len(shp.geometry)), end='')\n",
    "        # Rasterise the feature\n",
    "        mask = rasterize([(poly_geom, poly_class_id)],\n",
    "                         out_shape=(data_all.y.size, data_all.x.size),\n",
    "                         transform=data_all.affine)\n",
    "        \n",
    "        mask = xr.DataArray(mask, coords=(data_all.y, data_all.x))\n",
    "        data_masked = data_all.where(mask == poly_class_id, np.nan)\n",
    "\n",
    "        flat_train = sklearn_flatten(data_masked)\n",
    "        flat_val = np.repeat(poly_class_id,flat_train.shape[0])\n",
    "#         print(flat_train.shape, flat_val.shape)\n",
    "        stacked = np.hstack((np.expand_dims(flat_val, axis=1), flat_train))\n",
    "        # Append training data and label to list\n",
    "        out_train.append(stacked)\n",
    "        i = i+1\n",
    "        \n",
    "    # Return a list of labels for columns in output array\n",
    "    return [field] + list(data_all.data_vars)"
   ]
  },
  {
   "cell_type": "code",
   "execution_count": 23,
   "metadata": {},
   "outputs": [],
   "source": [
    "dc = datacube.Datacube(app = 'classifiers')"
   ]
  },
  {
   "cell_type": "code",
   "execution_count": null,
   "metadata": {},
   "outputs": [
    {
     "name": "stdout",
     "output_type": "stream",
     "text": [
      "[01/14]: /g/data1a/r78/LCCS_Aberystwyth/training_data/2015/Cell_-3_-21_2015.shp\n",
      "loading data...\n",
      "calculating indices...\n",
      "rastering features...\n",
      "Feature 0005/0103\r"
     ]
    }
   ],
   "source": [
    "shp_list = glob.glob('/g/data1a/r78/LCCS_Aberystwyth/training_data/2015/*.shp')\n",
    "out_train = []\n",
    "for shp_num, path in enumerate(shp_list):\n",
    "    print(\"[{:02}/{:02}]: {}\".format(shp_num+1, len(shp_list), path))\n",
    "    try:\n",
    "        column_names = get_training_data_for_shp(path, out_train, field='classnum')\n",
    "    except Exception as e:\n",
    "        print(\"Failed to extract data: {}\".format(e))\n",
    "    print(\"\\n extracted pixels\")\n",
    "    \n",
    "model_input = np.vstack(out_train)\n",
    "print(model_input.shape)\n",
    "np.savetxt(\"train_input.txt\", model_input, header = ' '.join(column_names), fmt = '%.4f')"
   ]
  },
  {
   "cell_type": "code",
   "execution_count": 242,
   "metadata": {},
   "outputs": [],
   "source": [
    "from sklearn import tree\n",
    "# Initialise classifier\n",
    "model = tree.DecisionTreeClassifier(random_state=0, max_depth=5)\n",
    "# Fit classifier add \"==215\" to make a single class prediction.\n",
    "model = model.fit(model_input[:,1:], model_input[:,0])"
   ]
  },
  {
   "cell_type": "code",
   "execution_count": 243,
   "metadata": {},
   "outputs": [
    {
     "data": {
      "text/plain": [
       "0.9956277064535205"
      ]
     },
     "execution_count": 243,
     "metadata": {},
     "output_type": "execute_result"
    }
   ],
   "source": [
    "model.score(model_input[:,1:], model_input[:,0])"
   ]
  },
  {
   "cell_type": "code",
   "execution_count": 220,
   "metadata": {},
   "outputs": [
    {
     "name": "stdout",
     "output_type": "stream",
     "text": [
      "['blue', 'green', 'red', 'nir', 'swir1', 'swir2', 'BUI', 'BSI', 'NBI', 'EVI', 'NDWI', 'MSAVI']\n",
      "['Natural Terrestrial Vegetated' 'Artificial Surface' 'Natural Surface'\n",
      " 'Artificail Water' 'Natural Water']\n"
     ]
    }
   ],
   "source": [
    "feature_names = list(data.data_vars)\n",
    "print(feature_names)\n",
    "target_names = np.array(('Natural Terrestrial Vegetated', 'Artificial Surface', 'Natural Surface', 'Artificail Water', 'Natural Water'))\n",
    "print(target_names)"
   ]
  },
  {
   "cell_type": "code",
   "execution_count": 244,
   "metadata": {},
   "outputs": [
    {
     "data": {
      "text/plain": [
       "[Text(635.7421875, 398.64, 'X[4] <= 1146.5\\ngini = 0.53\\nsamples = 262105\\nvalue = [144438, 11431, 106236]'),\n",
       " Text(341.484375, 326.15999999999997, 'X[3] <= 2892.5\\ngini = 0.003\\nsamples = 105042\\nvalue = [167, 0, 104875]'),\n",
       " Text(217.96875, 253.67999999999998, 'X[4] <= 1114.5\\ngini = 0.001\\nsamples = 104810\\nvalue = [59, 0, 104751]'),\n",
       " Text(116.25, 181.2, 'X[4] <= 1009.5\\ngini = 0.001\\nsamples = 104635\\nvalue = [33, 0, 104602]'),\n",
       " Text(58.125, 108.71999999999997, 'X[5] <= 545.5\\ngini = 0.0\\nsamples = 104039\\nvalue = [13, 0, 104026]'),\n",
       " Text(29.0625, 36.23999999999995, 'gini = 0.0\\nsamples = 103762\\nvalue = [7, 0, 103755]'),\n",
       " Text(87.1875, 36.23999999999995, 'gini = 0.042\\nsamples = 277\\nvalue = [6, 0, 271]'),\n",
       " Text(174.375, 108.71999999999997, 'X[1] <= 511.5\\ngini = 0.065\\nsamples = 596\\nvalue = [20, 0, 576]'),\n",
       " Text(145.3125, 36.23999999999995, 'gini = 0.493\\nsamples = 43\\nvalue = [19, 0, 24]'),\n",
       " Text(203.4375, 36.23999999999995, 'gini = 0.004\\nsamples = 553\\nvalue = [1, 0, 552]'),\n",
       " Text(319.6875, 181.2, 'X[1] <= 518.0\\ngini = 0.253\\nsamples = 175\\nvalue = [26, 0, 149]'),\n",
       " Text(290.625, 108.71999999999997, 'X[3] <= 1551.0\\ngini = 0.185\\nsamples = 29\\nvalue = [26, 0, 3]'),\n",
       " Text(261.5625, 36.23999999999995, 'gini = 0.0\\nsamples = 2\\nvalue = [0, 0, 2]'),\n",
       " Text(319.6875, 36.23999999999995, 'gini = 0.071\\nsamples = 27\\nvalue = [26, 0, 1]'),\n",
       " Text(348.75, 108.71999999999997, 'gini = 0.0\\nsamples = 146\\nvalue = [0, 0, 146]'),\n",
       " Text(465.0, 253.67999999999998, 'X[1] <= 555.5\\ngini = 0.498\\nsamples = 232\\nvalue = [108, 0, 124]'),\n",
       " Text(435.9375, 181.2, 'X[4] <= 969.5\\ngini = 0.168\\nsamples = 119\\nvalue = [108, 0, 11]'),\n",
       " Text(406.875, 108.71999999999997, 'gini = 0.0\\nsamples = 11\\nvalue = [0, 0, 11]'),\n",
       " Text(465.0, 108.71999999999997, 'gini = 0.0\\nsamples = 108\\nvalue = [108, 0, 0]'),\n",
       " Text(494.0625, 181.2, 'gini = 0.0\\nsamples = 113\\nvalue = [0, 0, 113]'),\n",
       " Text(930.0, 326.15999999999997, 'X[5] <= 1965.5\\ngini = 0.151\\nsamples = 157063\\nvalue = [144271, 11431, 1361]'),\n",
       " Text(697.5, 253.67999999999998, 'X[4] <= 1425.5\\ngini = 0.022\\nsamples = 145602\\nvalue = [143951, 293, 1358]'),\n",
       " Text(581.25, 181.2, 'X[1] <= 626.5\\ngini = 0.351\\nsamples = 3497\\nvalue = [2704, 0, 793]'),\n",
       " Text(523.125, 108.71999999999997, 'X[3] <= 1524.5\\ngini = 0.051\\nsamples = 2742\\nvalue = [2670, 0, 72]'),\n",
       " Text(494.0625, 36.23999999999995, 'gini = 0.346\\nsamples = 18\\nvalue = [4, 0, 14]'),\n",
       " Text(552.1875, 36.23999999999995, 'gini = 0.042\\nsamples = 2724\\nvalue = [2666, 0, 58]'),\n",
       " Text(639.375, 108.71999999999997, 'X[1] <= 670.5\\ngini = 0.086\\nsamples = 755\\nvalue = [34, 0, 721]'),\n",
       " Text(610.3125, 36.23999999999995, 'gini = 0.476\\nsamples = 77\\nvalue = [30, 0, 47]'),\n",
       " Text(668.4375, 36.23999999999995, 'gini = 0.012\\nsamples = 678\\nvalue = [4, 0, 674]'),\n",
       " Text(813.75, 181.2, 'X[5] <= 1882.5\\ngini = 0.012\\nsamples = 142105\\nvalue = [141247, 293, 565]'),\n",
       " Text(755.625, 108.71999999999997, 'X[3] <= 1803.5\\ngini = 0.01\\nsamples = 141569\\nvalue = [140855, 149, 565]'),\n",
       " Text(726.5625, 36.23999999999995, 'gini = 0.542\\nsamples = 151\\nvalue = [90, 15, 46]'),\n",
       " Text(784.6875, 36.23999999999995, 'gini = 0.009\\nsamples = 141418\\nvalue = [140765, 134, 519]'),\n",
       " Text(871.875, 108.71999999999997, 'X[3] <= 2174.5\\ngini = 0.393\\nsamples = 536\\nvalue = [392, 144, 0]'),\n",
       " Text(842.8125, 36.23999999999995, 'gini = 0.476\\nsamples = 156\\nvalue = [61, 95, 0]'),\n",
       " Text(900.9375, 36.23999999999995, 'gini = 0.225\\nsamples = 380\\nvalue = [331, 49, 0]'),\n",
       " Text(1162.5, 253.67999999999998, 'X[5] <= 2085.5\\ngini = 0.055\\nsamples = 11461\\nvalue = [320, 11138, 3]'),\n",
       " Text(1046.25, 181.2, 'X[4] <= 2884.5\\ngini = 0.465\\nsamples = 562\\nvalue = [200, 359, 3]'),\n",
       " Text(988.125, 108.71999999999997, 'X[0] <= 602.5\\ngini = 0.393\\nsamples = 460\\nvalue = [119, 338, 3]'),\n",
       " Text(959.0625, 36.23999999999995, 'gini = 0.458\\nsamples = 135\\nvalue = [87, 48, 0]'),\n",
       " Text(1017.1875, 36.23999999999995, 'gini = 0.194\\nsamples = 325\\nvalue = [32, 290, 3]'),\n",
       " Text(1104.375, 108.71999999999997, 'X[3] <= 2490.0\\ngini = 0.327\\nsamples = 102\\nvalue = [81, 21, 0]'),\n",
       " Text(1075.3125, 36.23999999999995, 'gini = 0.471\\nsamples = 50\\nvalue = [31, 19, 0]'),\n",
       " Text(1133.4375, 36.23999999999995, 'gini = 0.074\\nsamples = 52\\nvalue = [50, 2, 0]'),\n",
       " Text(1278.75, 181.2, 'X[0] <= 599.5\\ngini = 0.022\\nsamples = 10899\\nvalue = [120, 10779, 0]'),\n",
       " Text(1220.625, 108.71999999999997, 'X[3] <= 2061.0\\ngini = 0.399\\nsamples = 131\\nvalue = [36, 95, 0]'),\n",
       " Text(1191.5625, 36.23999999999995, 'gini = 0.06\\nsamples = 97\\nvalue = [3, 94, 0]'),\n",
       " Text(1249.6875, 36.23999999999995, 'gini = 0.057\\nsamples = 34\\nvalue = [33, 1, 0]'),\n",
       " Text(1336.875, 108.71999999999997, 'X[5] <= 2157.5\\ngini = 0.015\\nsamples = 10768\\nvalue = [84, 10684, 0]'),\n",
       " Text(1307.8125, 36.23999999999995, 'gini = 0.17\\nsamples = 415\\nvalue = [39, 376, 0]'),\n",
       " Text(1365.9375, 36.23999999999995, 'gini = 0.009\\nsamples = 10353\\nvalue = [45, 10308, 0]')]"
      ]
     },
     "execution_count": 244,
     "metadata": {},
     "output_type": "execute_result"
    },
    {
     "data": {
      "image/png": "[encoded data removed]",
      "text/plain": [
       "<Figure size 1800x576 with 1 Axes>"
      ]
     },
     "metadata": {
      "needs_background": "light"
     },
     "output_type": "display_data"
    }
   ],
   "source": [
    "# Plots the structure of the tree\n",
    "plt.figure(figsize=(25,8))\n",
    "sklearn.tree.plot_tree(model) "
   ]
  },
  {
   "cell_type": "code",
   "execution_count": 228,
   "metadata": {},
   "outputs": [],
   "source": [
    "predict_out = model.predict(model_input[:,1:])"
   ]
  },
  {
   "cell_type": "markdown",
   "metadata": {},
   "source": [
    "# Prediction"
   ]
  },
  {
   "cell_type": "code",
   "execution_count": 245,
   "metadata": {},
   "outputs": [],
   "source": [
    "# load the area you want to predict land cover here\n",
    "\n",
    "# Lake Eyre\n",
    "# x = (550000, 600000)\n",
    "# y = (-3000000, -2950000)\n",
    "# x = (-1000000, -950000)\n",
    "# y = (-3400000, -3350000)\n",
    "# x = (-1200000, -1299850)\n",
    "# y = (-3600000, -3500125)\n",
    "\n",
    "# # Coorong\n",
    "# x = (600000, 700000)\n",
    "# y = (-3950000, -3850000)\n",
    "\n",
    "# Kakadu\n",
    "x = (0,100000)\n",
    "y = (-1350000,-1250000)\n",
    "\n",
    "query = {'time': ('2015-01-01', '2015-02-01')}\n",
    "query['x'] = (x[0], x[1])\n",
    "query['y'] = (y[0], y[1])\n",
    "query['crs'] = 'EPSG:3577'"
   ]
  },
  {
   "cell_type": "code",
   "execution_count": 246,
   "metadata": {},
   "outputs": [
    {
     "data": {
      "text/html": [
       "<div style=\"width:100%;\"><div style=\"position:relative;width:100%;height:0;padding-bottom:60%;\"><iframe src=\"data:text/html;charset=utf-8;base64,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\" style=\"position:absolute;width:100%;height:100%;left:0;top:0;border:none !important;\" allowfullscreen webkitallowfullscreen mozallowfullscreen></iframe></div></div>"
      ],
      "text/plain": [
       "<folium.folium.Map at 0x7fa38b455438>"
      ]
     },
     "execution_count": 246,
     "metadata": {},
     "output_type": "execute_result"
    }
   ],
   "source": [
    "display_map(x, y, crs=\"EPSG:3577\")"
   ]
  },
  {
   "cell_type": "code",
   "execution_count": 247,
   "metadata": {},
   "outputs": [],
   "source": [
    "new_data = dc.load(product=product, group_by='solar_day', **query)"
   ]
  },
  {
   "cell_type": "code",
   "execution_count": 251,
   "metadata": {},
   "outputs": [
    {
     "data": {
      "text/plain": [
       "<matplotlib.collections.QuadMesh at 0x7fa38b9a38d0>"
      ]
     },
     "execution_count": 251,
     "metadata": {},
     "output_type": "execute_result"
    },
    {
     "data": {
      "image/png": "[encoded data removed]",
      "text/plain": [
       "<Figure size 432x288 with 2 Axes>"
      ]
     },
     "metadata": {
      "needs_background": "light"
     },
     "output_type": "display_data"
    }
   ],
   "source": [
    "new_data.blue.isel(time=0).plot()"
   ]
  },
  {
   "cell_type": "code",
   "execution_count": 58,
   "metadata": {},
   "outputs": [],
   "source": [
    "new_data = calculate_indices(new_data, 'BUI', collection='ga_ls_2')\n",
    "new_data = calculate_indices(new_data, 'BSI', collection='ga_ls_2')\n",
    "new_data = calculate_indices(new_data, 'BSI', collection='ga_ls_2')\n",
    "new_data = calculate_indices(new_data, 'NBI', collection='ga_ls_2')\n",
    "new_data = calculate_indices(new_data, 'EVI', collection='ga_ls_2')\n",
    "new_data = calculate_indices(new_data, 'NDWI', collection='ga_ls_2')\n",
    "new_data = calculate_indices(new_data, 'MSAVI', collection='ga_ls_2')\n",
    "# new_data = new_data.drop(bands)"
   ]
  },
  {
   "cell_type": "code",
   "execution_count": 252,
   "metadata": {},
   "outputs": [],
   "source": [
    "predicted = dea_classificationtools.predict_xr(model, new_data)"
   ]
  },
  {
   "cell_type": "code",
   "execution_count": 253,
   "metadata": {},
   "outputs": [],
   "source": [
    "out = predicted.isel(time=0).transpose()\n",
    "out = out.to_dataset(name=\"LCCS_L3\")\n",
    "out.attrs['crs']=geometry.CRS(data.crs)\n",
    "# out = out.isel(time=0)"
   ]
  },
  {
   "cell_type": "code",
   "execution_count": 254,
   "metadata": {},
   "outputs": [],
   "source": [
    "helpers.write_geotiff('dtreekak.tif', out)"
   ]
  },
  {
   "cell_type": "markdown",
   "metadata": {},
   "source": [
    "# Clustering method"
   ]
  },
  {
   "cell_type": "code",
   "execution_count": 9,
   "metadata": {},
   "outputs": [
    {
     "name": "stdout",
     "output_type": "stream",
     "text": [
      "0\n"
     ]
    },
    {
     "ename": "AttributeError",
     "evalue": "'str' object has no attribute 'distance'",
     "output_type": "error",
     "traceback": [
      "\u001b[0;31m---------------------------------------------------------------------------\u001b[0m",
      "\u001b[0;31mAttributeError\u001b[0m                            Traceback (most recent call last)",
      "\u001b[0;32m<ipython-input-9-b14b842dbf98>\u001b[0m in \u001b[0;36m<module>\u001b[0;34m\u001b[0m\n\u001b[1;32m      2\u001b[0m \u001b[0;32mfor\u001b[0m \u001b[0mi\u001b[0m\u001b[0;34m,\u001b[0m \u001b[0mfeature\u001b[0m \u001b[0;32min\u001b[0m \u001b[0menumerate\u001b[0m\u001b[0;34m(\u001b[0m\u001b[0mshp\u001b[0m\u001b[0;34m)\u001b[0m\u001b[0;34m:\u001b[0m\u001b[0;34m\u001b[0m\u001b[0;34m\u001b[0m\u001b[0m\n\u001b[1;32m      3\u001b[0m     \u001b[0mprint\u001b[0m\u001b[0;34m(\u001b[0m\u001b[0mi\u001b[0m\u001b[0;34m)\u001b[0m\u001b[0;34m\u001b[0m\u001b[0;34m\u001b[0m\u001b[0m\n\u001b[0;32m----> 4\u001b[0;31m     \u001b[0mmin_dist\u001b[0m\u001b[0;34m[\u001b[0m\u001b[0mi\u001b[0m\u001b[0;34m]\u001b[0m \u001b[0;34m=\u001b[0m \u001b[0mnp\u001b[0m\u001b[0;34m.\u001b[0m\u001b[0mmin\u001b[0m\u001b[0;34m(\u001b[0m\u001b[0;34m[\u001b[0m\u001b[0mfeature\u001b[0m\u001b[0;34m.\u001b[0m\u001b[0mdistance\u001b[0m\u001b[0;34m(\u001b[0m\u001b[0mfeature\u001b[0m\u001b[0;34m)\u001b[0m \u001b[0;32mfor\u001b[0m \u001b[0mfeature_2\u001b[0m \u001b[0;32min\u001b[0m \u001b[0mshp\u001b[0m\u001b[0;34m]\u001b[0m\u001b[0;34m)\u001b[0m\u001b[0;34m\u001b[0m\u001b[0;34m\u001b[0m\u001b[0m\n\u001b[0m\u001b[1;32m      5\u001b[0m \u001b[0mdf_dist\u001b[0m\u001b[0;34m[\u001b[0m\u001b[0;34m'min_dist_to_lines'\u001b[0m\u001b[0;34m]\u001b[0m \u001b[0;34m=\u001b[0m \u001b[0mmin_dist\u001b[0m\u001b[0;34m\u001b[0m\u001b[0;34m\u001b[0m\u001b[0m\n",
      "\u001b[0;32m<ipython-input-9-b14b842dbf98>\u001b[0m in \u001b[0;36m<listcomp>\u001b[0;34m(.0)\u001b[0m\n\u001b[1;32m      2\u001b[0m \u001b[0;32mfor\u001b[0m \u001b[0mi\u001b[0m\u001b[0;34m,\u001b[0m \u001b[0mfeature\u001b[0m \u001b[0;32min\u001b[0m \u001b[0menumerate\u001b[0m\u001b[0;34m(\u001b[0m\u001b[0mshp\u001b[0m\u001b[0;34m)\u001b[0m\u001b[0;34m:\u001b[0m\u001b[0;34m\u001b[0m\u001b[0;34m\u001b[0m\u001b[0m\n\u001b[1;32m      3\u001b[0m     \u001b[0mprint\u001b[0m\u001b[0;34m(\u001b[0m\u001b[0mi\u001b[0m\u001b[0;34m)\u001b[0m\u001b[0;34m\u001b[0m\u001b[0;34m\u001b[0m\u001b[0m\n\u001b[0;32m----> 4\u001b[0;31m     \u001b[0mmin_dist\u001b[0m\u001b[0;34m[\u001b[0m\u001b[0mi\u001b[0m\u001b[0;34m]\u001b[0m \u001b[0;34m=\u001b[0m \u001b[0mnp\u001b[0m\u001b[0;34m.\u001b[0m\u001b[0mmin\u001b[0m\u001b[0;34m(\u001b[0m\u001b[0;34m[\u001b[0m\u001b[0mfeature\u001b[0m\u001b[0;34m.\u001b[0m\u001b[0mdistance\u001b[0m\u001b[0;34m(\u001b[0m\u001b[0mfeature\u001b[0m\u001b[0;34m)\u001b[0m \u001b[0;32mfor\u001b[0m \u001b[0mfeature_2\u001b[0m \u001b[0;32min\u001b[0m \u001b[0mshp\u001b[0m\u001b[0;34m]\u001b[0m\u001b[0;34m)\u001b[0m\u001b[0;34m\u001b[0m\u001b[0;34m\u001b[0m\u001b[0m\n\u001b[0m\u001b[1;32m      5\u001b[0m \u001b[0mdf_dist\u001b[0m\u001b[0;34m[\u001b[0m\u001b[0;34m'min_dist_to_lines'\u001b[0m\u001b[0;34m]\u001b[0m \u001b[0;34m=\u001b[0m \u001b[0mmin_dist\u001b[0m\u001b[0;34m\u001b[0m\u001b[0;34m\u001b[0m\u001b[0m\n",
      "\u001b[0;31mAttributeError\u001b[0m: 'str' object has no attribute 'distance'"
     ]
    }
   ],
   "source": [
    "min_dist = np.empty(len(shp))\n",
    "for i, feature in enumerate(shp):\n",
    "    print(i)\n",
    "    min_dist[i] = np.min([feature.distance(feature) for feature_2 in shp])\n",
    "df_dist['min_dist_to_lines'] = min_dist"
   ]
  }
 ],
 "metadata": {
  "kernelspec": {
   "display_name": "Python 3",
   "language": "python",
   "name": "python3"
  },
  "language_info": {
   "codemirror_mode": {
    "name": "ipython",
    "version": 3
   },
   "file_extension": ".py",
   "mimetype": "text/x-python",
   "name": "python",
   "nbconvert_exporter": "python",
   "pygments_lexer": "ipython3",
   "version": "3.6.7"
  }
 },
 "nbformat": 4,
 "nbformat_minor": 4
}
