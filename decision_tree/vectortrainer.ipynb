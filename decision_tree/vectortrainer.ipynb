{
 "cells": [
  {
   "cell_type": "code",
   "execution_count": 1,
   "metadata": {},
   "outputs": [],
   "source": [
    "# Load modules\n",
    "import datacube\n",
    "import os\n",
    "import sys\n",
    "import warnings\n",
    "import pandas as pd\n",
    "import xarray as xr\n",
    "import numpy as np\n",
    "import matplotlib.image as mpimg\n",
    "from datacube.utils import geometry\n",
    "from datacube.utils.geometry import CRS\n",
    "from matplotlib import pyplot as plt\n",
    "import geopandas as gp\n",
    "import fiona\n",
    "from datacube import helpers\n",
    "\n",
    "import rasterio\n",
    "import sklearn\n",
    "import graphviz \n",
    "import pdb\n",
    "from sklearn import tree\n",
    "from rasterio.features import rasterize\n",
    "\n",
    "# Import external functions from dea-notebooks using relative link to 10_Scripts\n",
    "sys.path.append('/g/data/u46/users/sc0554/dea-notebooks/Scripts')\n",
    "from dea_bandindices import calculate_indices\n",
    "import dea_classificationtools\n",
    "from dea_plotting import display_map"
   ]
  },
  {
   "cell_type": "code",
   "execution_count": 2,
   "metadata": {},
   "outputs": [],
   "source": [
    "#'Wrappers' to translate xarrays to np arrays and back for interfacing with sklearn models\n",
    "def sklearn_flatten(input_xr):\n",
    "    \"\"\"\n",
    "    Reshape a DataArray or Dataset with spatial (and optionally temporal) structure into \n",
    "    an np.array with the spatial and temporal dimensions flattened into one dimension.\n",
    "    \n",
    "    This flattening procedure enables DataArrays and Datasets to be used to train and predict\n",
    "    with sklearn models.\n",
    "    \n",
    "    Last modified: September 2019\n",
    "    \n",
    "    Parameters\n",
    "    ----------  \n",
    "        input_xr : a DataArray or Dataset. Must have dimensions 'x' and 'y', may have dimension 'time'.\n",
    "                   Dimensions other than 'x', 'y' and 'time' are unaffected by the flattening.\n",
    "                   \n",
    "    Returns\n",
    "    ----------\n",
    "        input_np : a numpy array corresponding to input_xr.data (or input_xr.to_array().data), with\n",
    "                   dimensions 'x','y' and 'time' flattened into a single dimension, which is the first\n",
    "                   axis of the returned array. input_np contains no NaNs.\n",
    "    \n",
    "    \"\"\"\n",
    "#     pdb.set_trace()\n",
    "    #cast input Datasets to DataArray\n",
    "    if isinstance(input_xr,xr.Dataset):\n",
    "        input_xr = input_xr.to_array()\n",
    "    \n",
    "    #stack across pixel dimensions, handling timeseries if necessary\n",
    "    if 'time' in input_xr.dims:\n",
    "        stacked = input_xr.stack(z=['x','y','time'])\n",
    "    else:\n",
    "        stacked = input_xr.stack(z=['x','y'])\n",
    "        \n",
    "    #finding 'bands' dimensions in each pixel - these will not be flattened as their context is important for sklearn\n",
    "    pxdims = []\n",
    "    for dim in stacked.dims:\n",
    "        if dim != 'z':\n",
    "            pxdims.append(dim)\n",
    "    \n",
    "    #mask NaNs - we mask pixels with NaNs in *any* band, because sklearn cannot accept NaNs as input\n",
    "    mask = np.isnan(stacked)\n",
    "    if len(pxdims)!=0:\n",
    "        mask = mask.any(dim=pxdims)\n",
    "        \n",
    "    #turn the mask into a numpy array (boolean indexing with xarrays acts weird)\n",
    "    mask=mask.data\n",
    "    #the dimension we are masking along ('z') needs to be the first dimension in the underlying np array for\n",
    "    #the boolean indexing to work\n",
    "    stacked = stacked.transpose('z',*pxdims)\n",
    "    input_np = stacked.data[~mask]\n",
    "    \n",
    "    return input_np"
   ]
  },
  {
   "cell_type": "code",
   "execution_count": 3,
   "metadata": {},
   "outputs": [],
   "source": [
    "dc = datacube.Datacube(app = 'classifiers')"
   ]
  },
  {
   "cell_type": "code",
   "execution_count": 4,
   "metadata": {},
   "outputs": [],
   "source": [
    "#open the shapefile\n",
    "shp_path='/g/data1a/u46/users/sc0554/LCCS/LCCS/decision_tree/training_data/training_samples_2015_-11_-35.shp'\n",
    "# shp_path='/g/data1a/u46/users/sc0554/LCCS/LCCS/decision_tree/training_data/LANDSCAPE_SALandCover_TrainingData_PointsConsolidated_SAOnly.shp'\n",
    "shapes=fiona.open(shp_path,'r')\n",
    "# shp = gp.read_file(shp_path)\n",
    "crs=geometry.CRS(shapes.crs_wkt)\n",
    "field = 'Classvalue'\n",
    "# field = 'CLASS_VALU'\n",
    "class_value = 33\n",
    "product = 'ls8_nbart_geomedian_annual'\n",
    "query = {\n",
    "         'time': ('2015-01-01', '2015-02-01')\n",
    "         }"
   ]
  },
  {
   "cell_type": "code",
   "execution_count": 5,
   "metadata": {},
   "outputs": [],
   "source": [
    "bands = ['blue', 'green', 'red', 'nir', 'swir1', 'swir2']"
   ]
  },
  {
   "cell_type": "code",
   "execution_count": null,
   "metadata": {},
   "outputs": [],
   "source": []
  },
  {
   "cell_type": "code",
   "execution_count": null,
   "metadata": {},
   "outputs": [],
   "source": [
    "feature_rast_list = []\n",
    "for feature in shapes:\n",
    "    # Only process desired class\n",
    "#     if feature['properties'][field] == class_value:\n",
    "        # Datacube load the data near each feature in a shapefile, this returns a square / rectamg;e\n",
    "        f_geometry=feature['geometry']\n",
    "        geom=geometry.Geometry(f_geometry,crs=crs)\n",
    "        query['geopolygon'] = geom\n",
    "        data = dc.load(product=product, group_by='solar_day', **query)\n",
    "        \n",
    "        # Calculate indices\n",
    "        data = calculate_indices(data, 'BUI', collection='ga_ls_2')\n",
    "        data = calculate_indices(data, 'BSI', collection='ga_ls_2')\n",
    "        data = calculate_indices(data, 'BSI', collection='ga_ls_2')\n",
    "        data = calculate_indices(data, 'NBI', collection='ga_ls_2')\n",
    "        data = calculate_indices(data, 'EVI', collection='ga_ls_2')\n",
    "        data = calculate_indices(data, 'NDWI', collection='ga_ls_2')\n",
    "        data = calculate_indices(data, 'MSAVI', collection='ga_ls_2')\n",
    "    #     data = data.drop(bands)\n",
    "        # Extract the label\n",
    "        label = feature['properties'][field]\n",
    "        # Append training data and label to list\n",
    "        feature_rast_list.append((data, label))"
   ]
  },
  {
   "cell_type": "code",
   "execution_count": 7,
   "metadata": {},
   "outputs": [
    {
     "name": "stderr",
     "output_type": "stream",
     "text": [
      "/g/data/v10/public/modules/dea-env/20190709/lib/python3.6/site-packages/datacube/utils/math.py:105: RuntimeWarning: invalid value encountered in double_scalars\n",
      "  res = (data[data.size - 1] - data[0]) / (data.size - 1.0)\n"
     ]
    }
   ],
   "source": [
    "# affine of single pixel is nans fyi\n",
    "\n",
    "feature_rast_list = []\n",
    "for feature in shapes:\n",
    "    # Only process desired class\n",
    "#     if feature['properties'][field] == class_value:\n",
    "        \n",
    "        # Datacube load the data near each feature in a shapefile, this returns a square / rectamg;e\n",
    "        f_geometry=feature['geometry']\n",
    "        geom=geometry.Geometry(f_geometry,crs=crs)\n",
    "        query['geopolygon'] = geom\n",
    "        data = dc.load(product=product, group_by='solar_day', **query)\n",
    "\n",
    "        # Rasterise the feature, this could be improved as it checks every feature in a shapefile.\n",
    "        mask = rasterize([(feature['geometry'], feature['properties'][field])],\n",
    "                                           out_shape=data.isel(time=0).green.shape,\n",
    "                                           transform=data.affine\n",
    "                                          )\n",
    "        mask = xr.DataArray(mask, coords=(data.y, data.x))\n",
    "\n",
    "        # Mask the data so area outside the shapefile is NaN\n",
    "        data = data.where(mask == feature['properties'][field], np.nan)\n",
    "        # Calculate indices\n",
    "        data = calculate_indices(data, 'BUI', collection='ga_ls_2')\n",
    "        data = calculate_indices(data, 'BSI', collection='ga_ls_2')\n",
    "        data = calculate_indices(data, 'BSI', collection='ga_ls_2')\n",
    "        data = calculate_indices(data, 'NBI', collection='ga_ls_2')\n",
    "        data = calculate_indices(data, 'EVI', collection='ga_ls_2')\n",
    "        data = calculate_indices(data, 'NDWI', collection='ga_ls_2')\n",
    "        data = calculate_indices(data, 'MSAVI', collection='ga_ls_2')\n",
    "        \n",
    "        # Extract the label\n",
    "        label = feature['properties'][field]\n",
    "\n",
    "        # Append training data and label to list\n",
    "        feature_rast_list.append((data, label))"
   ]
  },
  {
   "cell_type": "code",
   "execution_count": 10,
   "metadata": {},
   "outputs": [
    {
     "data": {
      "text/plain": [
       "<matplotlib.collections.QuadMesh at 0x7f85f1b995c0>"
      ]
     },
     "execution_count": 10,
     "metadata": {},
     "output_type": "execute_result"
    },
    {
     "data": {
      "image/png": "[encoded data removed]",
      "text/plain": [
       "<Figure size 432x288 with 2 Axes>"
      ]
     },
     "metadata": {
      "needs_background": "light"
     },
     "output_type": "display_data"
    }
   ],
   "source": [
    "feature_rast_list[0][0].blue.plot()"
   ]
  },
  {
   "cell_type": "code",
   "execution_count": 12,
   "metadata": {},
   "outputs": [
    {
     "name": "stdout",
     "output_type": "stream",
     "text": [
      "['blue', 'green', 'red', 'nir', 'swir1', 'swir2', 'BUI', 'BSI', 'NBI', 'EVI', 'NDWI', 'MSAVI']\n",
      "['Natural Terrestrial Vegetated' 'Artificial Surface' 'Natural Surface'\n",
      " 'Artificail Water' 'Natural Water']\n"
     ]
    }
   ],
   "source": [
    "feature_names = list(data.data_vars)\n",
    "print(feature_names)\n",
    "target_names = np.array(('Natural Terrestrial Vegetated', 'Artificial Surface', 'Natural Surface', 'Artificail Water', 'Natural Water'))\n",
    "print(target_names)"
   ]
  },
  {
   "cell_type": "code",
   "execution_count": null,
   "metadata": {},
   "outputs": [],
   "source": [
    "feature_rast_list[0][0].isel(time=0)['BUI'].plot()"
   ]
  },
  {
   "cell_type": "code",
   "execution_count": null,
   "metadata": {},
   "outputs": [],
   "source": [
    "# Flatten arrays and append to list\n",
    "flat_train_list = []\n",
    "flat_val_list = []\n",
    "\n",
    "for feature in feature_rast_list:\n",
    "    # Flatten\n",
    "    flat_train = sklearn_flatten(feature[0])\n",
    "    # Make a list of labels for the same length as the training data\n",
    "    flat_val = np.repeat(feature[1],flat_train.shape[0])\n",
    "    flat_train_list.append(flat_train)\n",
    "    flat_val_list.append(flat_val)"
   ]
  },
  {
   "cell_type": "code",
   "execution_count": null,
   "metadata": {},
   "outputs": [],
   "source": [
    "# Stack list off arrays into single array\n",
    "# Change to stack\n",
    "val_input = np.hstack(flat_val_list)\n",
    "train_input = np.vstack(flat_train_list)\n",
    "print(train_input.shape, val_input.shape, )"
   ]
  },
  {
   "cell_type": "code",
   "execution_count": null,
   "metadata": {},
   "outputs": [],
   "source": [
    "# Initialise classifier\n",
    "dtree = tree.DecisionTreeClassifier(random_state=0, max_depth=100)\n",
    "# Fit classifier add \"==215\" to make a single class prediction.\n",
    "dtree = dtree.fit(train_input, val_input)"
   ]
  },
  {
   "cell_type": "code",
   "execution_count": null,
   "metadata": {},
   "outputs": [],
   "source": [
    "# Prints the feature importance\n",
    "print(dict(zip(feature_names, dtree.feature_importances_)))"
   ]
  },
  {
   "cell_type": "code",
   "execution_count": null,
   "metadata": {},
   "outputs": [],
   "source": [
    "# Plots the structure of the tree\n",
    "# plt.figure(figsize=(25,8))\n",
    "# sklearn.tree.plot_tree(dtree, feature_names=feature_names, class_names=['Not Urban', 'Urban']) "
   ]
  },
  {
   "cell_type": "markdown",
   "metadata": {},
   "source": [
    "# Prediction"
   ]
  },
  {
   "cell_type": "code",
   "execution_count": null,
   "metadata": {},
   "outputs": [],
   "source": [
    "# load the area you want to predict land cover here\n",
    "\n",
    "# Lake Eyre\n",
    "# x = (550000, 600000)\n",
    "# y = (-3000000, -2950000)\n",
    "x = (-1000000, -950000)\n",
    "y = (-3400000, -3350000)\n",
    "\n",
    "query = {'time': ('2015-01-01', '2015-02-01')}\n",
    "query['x'] = (x[0], x[1])\n",
    "query['y'] = (y[0], y[1])\n",
    "query['crs'] = 'EPSG:3577'"
   ]
  },
  {
   "cell_type": "code",
   "execution_count": null,
   "metadata": {},
   "outputs": [],
   "source": [
    "display_map(x, y, crs=\"EPSG:3577\")"
   ]
  },
  {
   "cell_type": "code",
   "execution_count": null,
   "metadata": {},
   "outputs": [],
   "source": [
    "new_data = dc.load(product=product, group_by='solar_day', **query)"
   ]
  },
  {
   "cell_type": "code",
   "execution_count": null,
   "metadata": {},
   "outputs": [],
   "source": [
    "new_data = calculate_indices(new_data, 'BUI', collection='ga_ls_2')\n",
    "new_data = calculate_indices(new_data, 'BSI', collection='ga_ls_2')\n",
    "new_data = calculate_indices(new_data, 'BSI', collection='ga_ls_2')\n",
    "new_data = calculate_indices(new_data, 'NBI', collection='ga_ls_2')\n",
    "new_data = calculate_indices(new_data, 'EVI', collection='ga_ls_2')\n",
    "new_data = calculate_indices(new_data, 'NDWI', collection='ga_ls_2')\n",
    "new_data = calculate_indices(new_data, 'MSAVI', collection='ga_ls_2')\n",
    "# new_data = new_data.drop(bands)"
   ]
  },
  {
   "cell_type": "code",
   "execution_count": null,
   "metadata": {},
   "outputs": [],
   "source": [
    "predicted = dea_classificationtools.predict_xr(dtree, new_data)"
   ]
  },
  {
   "cell_type": "code",
   "execution_count": null,
   "metadata": {},
   "outputs": [],
   "source": [
    "(predicted == 215).plot()"
   ]
  },
  {
   "cell_type": "code",
   "execution_count": null,
   "metadata": {},
   "outputs": [],
   "source": [
    "out = predicted.isel(time=0).transpose()\n",
    "out = out.to_dataset(name=\"LCCS_L3\")\n",
    "out.attrs['crs']=geometry.CRS(data.crs)\n",
    "# out = out.isel(time=0)"
   ]
  },
  {
   "cell_type": "code",
   "execution_count": null,
   "metadata": {},
   "outputs": [],
   "source": [
    "helpers.write_geotiff('dtreetest_bandsurb.tif', out)"
   ]
  },
  {
   "cell_type": "markdown",
   "metadata": {},
   "source": [
    "# Junk code"
   ]
  },
  {
   "cell_type": "code",
   "execution_count": null,
   "metadata": {},
   "outputs": [],
   "source": [
    "new_data_flat = sklearn_flatten(new_data)"
   ]
  },
  {
   "cell_type": "code",
   "execution_count": null,
   "metadata": {},
   "outputs": [],
   "source": [
    "new_data_predict_flat = dtree.predict(new_data_flat)"
   ]
  },
  {
   "cell_type": "code",
   "execution_count": null,
   "metadata": {},
   "outputs": [],
   "source": [
    "np.unique(new_data_predict_flat)"
   ]
  },
  {
   "cell_type": "code",
   "execution_count": null,
   "metadata": {},
   "outputs": [],
   "source": [
    "new_data_predict = dea_classificationtools.sklearn_unflatten(new_data_predict, new_data)"
   ]
  },
  {
   "cell_type": "code",
   "execution_count": null,
   "metadata": {},
   "outputs": [],
   "source": [
    "dot_data = tree.export_graphviz(dtree, out_file=None, \n",
    "                      class_names=target_names,  \n",
    "                      filled=True, rounded=True,  \n",
    "                      special_characters=True)\n",
    "graph = graphviz.Source(dot_data)\n",
    "graph "
   ]
  },
  {
   "cell_type": "code",
   "execution_count": null,
   "metadata": {},
   "outputs": [],
   "source": [
    "field = 'Classvalue'\n",
    "shapes = ((geom,value) for geom, value in zip(shp.geometry, \n",
    "                                                      shp[field]))"
   ]
  },
  {
   "cell_type": "code",
   "execution_count": null,
   "metadata": {},
   "outputs": [],
   "source": [
    "shapefilepath = '/g/data1a/u46/users/sc0554/LCCS/LCCS/decision_tree/training_data'"
   ]
  },
  {
   "cell_type": "code",
   "execution_count": null,
   "metadata": {},
   "outputs": [],
   "source": [
    "shp = gp.read_file(shapefilepath)"
   ]
  },
  {
   "cell_type": "code",
   "execution_count": null,
   "metadata": {},
   "outputs": [],
   "source": [
    "mask = rasterio.features.rasterize(((feature['geometry'], 1) for feature in shp.iterfeatures()),\n",
    "                                   out_shape=data.isel(time=0).green.shape,\n",
    "                                   transform=data.green.affine\n",
    "                                  )"
   ]
  },
  {
   "cell_type": "code",
   "execution_count": null,
   "metadata": {},
   "outputs": [],
   "source": [
    "for index, row in shp.iterrows():\n",
    "    print(row)\n",
    "    break\n",
    "#     print(row['Classvalue'], row['geometry'])"
   ]
  },
  {
   "cell_type": "code",
   "execution_count": null,
   "metadata": {},
   "outputs": [],
   "source": []
  },
  {
   "cell_type": "code",
   "execution_count": null,
   "metadata": {},
   "outputs": [],
   "source": [
    "from sklearn.datasets import load_iris\n",
    "iris = load_iris()\n",
    "clf = tree.DecisionTreeClassifier()\n",
    "clf = clf.fit(iris.data, iris.target)"
   ]
  },
  {
   "cell_type": "code",
   "execution_count": null,
   "metadata": {},
   "outputs": [],
   "source": [
    "iris.target_names"
   ]
  },
  {
   "cell_type": "code",
   "execution_count": null,
   "metadata": {},
   "outputs": [],
   "source": [
    "plt.figure(figsize=(20,20))\n",
    "tree.plot_tree(clf.fit(iris.data, iris.target), feature_names = iris.feature_names) "
   ]
  }
 ],
 "metadata": {
  "kernelspec": {
   "display_name": "Python 3",
   "language": "python",
   "name": "python3"
  },
  "language_info": {
   "codemirror_mode": {
    "name": "ipython",
    "version": 3
   },
   "file_extension": ".py",
   "mimetype": "text/x-python",
   "name": "python",
   "nbconvert_exporter": "python",
   "pygments_lexer": "ipython3",
   "version": "3.6.7"
  }
 },
 "nbformat": 4,
 "nbformat_minor": 4
}
